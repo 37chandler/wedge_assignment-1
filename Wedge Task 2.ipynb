{
 "cells": [
  {
   "cell_type": "code",
   "execution_count": null,
   "metadata": {},
   "outputs": [],
   "source": [
    "# Do our imports for the code\n",
    "from google.cloud import bigquery\n",
    "from google.oauth2 import service_account\n",
    "import random"
   ]
  },
  {
   "cell_type": "code",
   "execution_count": null,
   "metadata": {},
   "outputs": [],
   "source": [
    "#connect to UMT GBQ instance. \n",
    "service_path = 'C:\\\\Users\\\\markmcdiffett\\\\Desktop\\\\2021fallsemester\\\\Applieddataanalytics\\\\'\n",
    "service_file = 'umt-msba-037daf11ee16.json'   \n",
    "gbq_proj_id = 'umt-msba'\n",
    "gbq_dataset_id = 'transactions'\n",
    "\n",
    "\n",
    "private_key =service_path + service_file\n",
    "\n"
   ]
  },
  {
   "cell_type": "code",
   "execution_count": null,
   "metadata": {},
   "outputs": [],
   "source": [
    "# Get your credentials\n",
    "credentials = service_account.Credentials.from_service_account_file(service_path + service_file)\n",
    "\n",
    "# And create a client to talk to GBQ\n",
    "client = bigquery.Client(credentials = credentials, project=gbq_proj_id)"
   ]
  },
  {
   "cell_type": "code",
   "execution_count": null,
   "metadata": {},
   "outputs": [],
   "source": [
    "#create sample of owners\n",
    "#query finding all card numbers\n",
    "\n",
    "qry = \"\"\"\n",
    "SELECT\n",
    "  card_no\n",
    "FROM\n",
    "  `umt-msba.transactions.transArchive*`\n",
    "WHERE CARD_NO != 3\n",
    "group by card_no\n",
    "order by card_no\n",
    "\"\"\"\n",
    "# perform query\n",
    "query_job = client.query(\n",
    "    qry,\n",
    "    location=\"US\",\n",
    ")\n",
    "\n",
    "#create full list of owners\n",
    "owners_list = []\n",
    "for row in query_job:\n",
    "    owners_list.append(int(row[0]))\n",
    "\n",
    "#create sampling of 400 owners and format for query\n",
    "owners_list = random.choices(owners_list, k = 400)\n",
    "\",\".join([str(item) for item in owners_list])\n",
    "  "
   ]
  },
  {
   "cell_type": "code",
   "execution_count": null,
   "metadata": {},
   "outputs": [],
   "source": [
    "# query the sample of owners \n",
    "\n",
    "qry2_start = \"\"\"\n",
    "SELECT\n",
    "  *\n",
    "FROM\n",
    "  `umt-msba.transactions.transArchive*`\n",
    "WHERE CARD_NO in (\"\"\"\n",
    "\n",
    "qry2_end = \") ORDER BY card_no\"\n",
    "\n",
    "#insert list of owner sample into query\n",
    "qry2 = qry2_start + \",\".join([str(item) for item in owners_list]) + qry2_end\n",
    "\n",
    "# And we execute queries with `client.query`\n",
    "query_job2 = client.query(\n",
    "    qry2,\n",
    "    location=\"US\",\n",
    ")\n",
    "\n"
   ]
  },
  {
   "cell_type": "code",
   "execution_count": null,
   "metadata": {},
   "outputs": [],
   "source": [
    "#create text file of sample records\n",
    "with open(\"sample_owner_records.txt\",\"w\") as outfile :\n",
    "    for row in query_job2 : \n",
    "        outfile.write(\"\\t\".join([str(item) for item in row]) + \"\\n\")"
   ]
  }
 ],
 "metadata": {
  "kernelspec": {
   "display_name": "Python 3",
   "language": "python",
   "name": "python3"
  },
  "language_info": {
   "codemirror_mode": {
    "name": "ipython",
    "version": 3
   },
   "file_extension": ".py",
   "mimetype": "text/x-python",
   "name": "python",
   "nbconvert_exporter": "python",
   "pygments_lexer": "ipython3",
   "version": "3.8.5"
  }
 },
 "nbformat": 4,
 "nbformat_minor": 5
}
