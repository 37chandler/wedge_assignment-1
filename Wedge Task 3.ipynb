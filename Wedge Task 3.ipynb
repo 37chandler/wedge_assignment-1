{
 "cells": [
  {
   "cell_type": "code",
   "execution_count": 1,
   "metadata": {},
   "outputs": [],
   "source": [
    "# Do our imports for the code\n",
    "import sqlite3\n",
    "from google.cloud import bigquery\n",
    "from google.oauth2 import service_account"
   ]
  },
  {
   "cell_type": "code",
   "execution_count": 2,
   "metadata": {},
   "outputs": [],
   "source": [
    "#connect to UMT GBQ instance. \n",
    "service_path = 'C:\\\\Users\\\\markmcdiffett\\\\Desktop\\\\2021fallsemester\\\\Applieddataanalytics\\\\'\n",
    "service_file = 'umt-msba-037daf11ee16.json' # change this to your authentication information  \n",
    "#gbq_proj_id = 'wedgeproject-327716' # change this to your poroject. \n",
    "#gbq_dataset_id = 'wedge_users'\n",
    "gbq_proj_id = 'umt-msba' # change this to your poroject. \n",
    "gbq_dataset_id = 'transactions'\n",
    "\n",
    "# And this should stay the same. \n",
    "private_key =service_path + service_file\n",
    "\n"
   ]
  },
  {
   "cell_type": "code",
   "execution_count": 3,
   "metadata": {},
   "outputs": [],
   "source": [
    "# Get your credentials\n",
    "credentials = service_account.Credentials.from_service_account_file(service_path + service_file)\n",
    "\n",
    "# And create a client to talk to GBQ\n",
    "client = bigquery.Client(credentials = credentials, project=gbq_proj_id)"
   ]
  },
  {
   "cell_type": "code",
   "execution_count": null,
   "metadata": {},
   "outputs": [],
   "source": [
    "#################################### TABLE 1 ############################################\n",
    "#create connection and create table\n",
    "connection = sqlite3.connect('Wedge.db')\n",
    "cursor = connection.cursor()\n",
    "cursor.execute('''CREATE TABLE IF NOT EXISTS salesbyhour\n",
    "              (Date DATE, Hour INT, Total_spend FLOAT, Transactions INT, Items INT)''')\n",
    "connection.commit()"
   ]
  },
  {
   "cell_type": "code",
   "execution_count": null,
   "metadata": {},
   "outputs": [],
   "source": [
    "#delete current rows in table\n",
    "cursor.execute(\"DELETE FROM salesbyhour\")\n",
    "connection.commit()"
   ]
  },
  {
   "cell_type": "code",
   "execution_count": null,
   "metadata": {},
   "outputs": [],
   "source": [
    "#################################### TABLE 1 ############################################\n",
    "# 1.\tSales by date by hour: By calendar date (YYYY-MM-DD) and hour of the day,\n",
    "#determine the total spend in the store, the number of transactions, and a count of the number of items.\n",
    "\n",
    "#query and execute query\n",
    "qry = \"\"\"\n",
    "SELECT EXTRACT(date from datetime) as date, EXTRACT(hour from datetime) as hour,\n",
    "       ROUND(sum(total),2) as Total_spend, count(*) as transactions, ROUND(sum(quantity),0) as items \n",
    "FROM `umt-msba.wedge_transactions.transArchive_*` \n",
    "WHERE unitPrice > 0\n",
    "GROUP BY date, hour\n",
    "ORDER by date, hour\n",
    "\n",
    "\"\"\"\n",
    "\n",
    "# And we execute queries with `client.query`\n",
    "query_job = client.query(\n",
    "    qry,\n",
    "    location=\"US\",\n",
    ")"
   ]
  },
  {
   "cell_type": "code",
   "execution_count": null,
   "metadata": {},
   "outputs": [],
   "source": [
    "\n",
    "#################################### TABLE 1 ############################################ \n",
    "#Insert query results into database\n",
    "for row in query_job:\n",
    "    Date = row[0]\n",
    "    Hour = row[1]\n",
    "    Total_spend = row[2]\n",
    "    Transactions = row[3]\n",
    "    Items = row[4]\n",
    "    cursor.execute(f\"INSERT INTO salesbyhour VALUES('{Date}','{Hour}','{Total_spend}','{Transactions}','{Items}')\")\n",
    "    connection.commit()"
   ]
  },
  {
   "cell_type": "code",
   "execution_count": null,
   "metadata": {},
   "outputs": [],
   "source": [
    "#################################### TABLE 2 ############################################ \n",
    "#create connection and create table\n",
    "connection = sqlite3.connect('Wedge.db')\n",
    "cursor = connection.cursor()\n",
    "cursor.execute('''CREATE TABLE IF NOT EXISTS salesbyowner\n",
    "              (Card_no INT, Year INT, Month INT, Sales FLOAT, Transactions INT, Items INT)''')\n",
    "connection.commit()"
   ]
  },
  {
   "cell_type": "code",
   "execution_count": null,
   "metadata": {},
   "outputs": [],
   "source": [
    "#delete current rows in table\n",
    "cursor.execute(\"DELETE FROM salesbyowner\")\n",
    "connection.commit()"
   ]
  },
  {
   "cell_type": "code",
   "execution_count": null,
   "metadata": {},
   "outputs": [],
   "source": [
    "#################################### TABLE 2 ############################################ \n",
    "# 2.\tSales by owner by year by month: \n",
    "#A file that has the following columns: card_no, year, month, sales, transactions, and items.\n",
    "\n",
    "\n",
    "qry = \"\"\"\n",
    "SELECT\n",
    "  card_no,\n",
    "  EXTRACT(year\n",
    "  FROM\n",
    "    datetime) AS Year,\n",
    "  EXTRACT(month\n",
    "  FROM\n",
    "    datetime) AS Month,\n",
    "  COUNT (*) AS Transactions,\n",
    "  ROUND(SUM(total),2) AS Sales,\n",
    "  ROUND(SUM(QUANTITY),0) AS Items,\n",
    "FROM\n",
    "  `umt-msba.transactions.transArchive*`\n",
    "WHERE\n",
    "  unitPrice > 0\n",
    "  AND card_no != 3\n",
    "  AND TRANS_STATUS != \"V\"\n",
    "  AND TRANS_STATUS != \"C\"\n",
    "  AND TRANS_STATUS != \"R\"\n",
    "  AND TRANS_STATUS != \"M\"\n",
    "  AND TRANS_STATUS !=\"J\"\n",
    "GROUP BY\n",
    "  CARD_NO,\n",
    "  YEAR,\n",
    "  MONTH\n",
    "ORDER BY\n",
    "  CARD_NO,\n",
    "  YEAR,\n",
    "  MONTH\n",
    "\n",
    "\"\"\"\n",
    "\n",
    "# And we execute queries with `client.query`\n",
    "query_job = client.query(\n",
    "    qry,\n",
    "    location=\"US\",\n",
    ")"
   ]
  },
  {
   "cell_type": "code",
   "execution_count": null,
   "metadata": {},
   "outputs": [],
   "source": [
    "#################################### TABLE 2 ############################################ \n",
    "#Insert query results into database\n",
    "for row in query_job:\n",
    "    card_no = row[0]\n",
    "    year = row[1]\n",
    "    month = row[2]\n",
    "    transactions = row[3]\n",
    "    sales = row[4]\n",
    "    items = row[5]\n",
    "    cursor.execute(f\"INSERT INTO salesbyowner VALUES('{card_no}','{year}','{month}','{sales}','{transactions}','{items}')\")\n",
    "connection.commit()"
   ]
  },
  {
   "cell_type": "code",
   "execution_count": 4,
   "metadata": {},
   "outputs": [],
   "source": [
    "#################################### TABLE 3 ############################################\n",
    "#create connection and create table\n",
    "connection = sqlite3.connect('Wedge.db')\n",
    "cursor = connection.cursor()\n",
    "cursor.execute('''CREATE TABLE IF NOT EXISTS productsales\n",
    "              (UPC INT, Description TEXT, Department_Number INT, Department_Name TEXT, Year INT, Month INT, Sales INT, Items INT, Transactions INT)''')\n",
    "connection.commit()\n"
   ]
  },
  {
   "cell_type": "code",
   "execution_count": 5,
   "metadata": {},
   "outputs": [],
   "source": [
    "#delete current rows in table\n",
    "cursor.execute(\"DELETE FROM productsales\")\n",
    "connection.commit()\n"
   ]
  },
  {
   "cell_type": "code",
   "execution_count": 6,
   "metadata": {},
   "outputs": [],
   "source": [
    "#################################### TABLE 3 ############################################\n",
    "#3.\tSales by product description by year by month: A file that has the following columns:\n",
    "# upc, description, department number, department name, year, month, sales, transactions, and items.\n",
    "\n",
    "qry = \"\"\"\n",
    " SELECT\n",
    "  TRIM(description),\n",
    "  EXTRACT(YEAR\n",
    "  FROM\n",
    "    DATETIME) AS YEAR,\n",
    "  EXTRACT(MONTH\n",
    "  FROM\n",
    "    DATETIME) AS MONTH,\n",
    "  DEPARTMENT AS DeptNo,\n",
    "  UPC,\n",
    "  ROUND(SUM(TOTAL),2) AS SPENDING,\n",
    "  SUM(QUANTITY) AS ITEMS,\n",
    "  COUNT(*) AS TRANSACTIONS,\n",
    "FROM\n",
    "  `umt-msba.transactions.transArchive*` \n",
    "WHERE\n",
    "  TRANS_STATUS != \"V\"\n",
    "  AND TRANS_STATUS != \"C\"\n",
    "  AND TRANS_STATUS != \"R\"\n",
    "  AND TRANS_STATUS != \"M\"\n",
    "  AND TRANS_STATUS !=\"J\"\n",
    "GROUP BY\n",
    "  description,\n",
    "  year,\n",
    "  month,\n",
    "  DEPARTMENT,\n",
    "  upc\n",
    "ORDER BY\n",
    "  TRIM(DESCRIPTION),\n",
    "  YEAR,\n",
    "  MONTH\n",
    "\n",
    "\n",
    "\"\"\"\n",
    "\n",
    "# And we execute queries with `client.query`\n",
    "query_job = client.query(\n",
    "    qry,\n",
    "    location=\"US\",\n",
    ")\n",
    "\n",
    "\n",
    "    \n",
    "            \n",
    "    \n"
   ]
  },
  {
   "cell_type": "code",
   "execution_count": 7,
   "metadata": {},
   "outputs": [],
   "source": [
    "#create dictionary to link department number with department {dep_num: dep_name}\n",
    "department_name_dict = {}\n",
    "with open(\"C:\\\\Users\\\\markmcdiffett\\\\Desktop\\\\2021fallsemester\\\\Applieddataanalytics\\\\Python and GBQ\\\\exercise-python-gbq-markmcdiffett\\\\department_lookup.csv\",\"r\") as a:\n",
    "    for row in a:\n",
    "        row = row.split(',')\n",
    "        dep_num = row[0]\n",
    "        dep_name = row[1].replace(\"\\n\",\"\")\n",
    "        department_name_dict[dep_num] = dep_name \n",
    "# create \"no department\" label for rows with department number 0\n",
    "department_name_dict[\"0\"] = \"No Department\"        \n",
    "        "
   ]
  },
  {
   "cell_type": "code",
   "execution_count": 8,
   "metadata": {},
   "outputs": [],
   "source": [
    "#################################### TABLE 3 ############################################\n",
    "#CARD_NO ORDERED BY NUMBER OF ENTRIES\n",
    "for row in query_job:\n",
    "    description = row[0]\n",
    "    year = row[1]\n",
    "    month = row[2]\n",
    "    department_number = str(int(row[3]))\n",
    "    department_name = department_name_dict[department_number]\n",
    "    upc = row[4]\n",
    "    total_spend = row[5]\n",
    "    items = row[6]\n",
    "    transaction = row[7]\n",
    "    cursor.execute(f\"INSERT INTO productsales VALUES('{upc}','{description}','{department_number}','{department_name}','{year}','{month}','{total_spend}','{items}','{transaction}')\")\n",
    "connection.commit()"
   ]
  }
 ],
 "metadata": {
  "kernelspec": {
   "display_name": "Python 3",
   "language": "python",
   "name": "python3"
  },
  "language_info": {
   "codemirror_mode": {
    "name": "ipython",
    "version": 3
   },
   "file_extension": ".py",
   "mimetype": "text/x-python",
   "name": "python",
   "nbconvert_exporter": "python",
   "pygments_lexer": "ipython3",
   "version": "3.8.5"
  }
 },
 "nbformat": 4,
 "nbformat_minor": 5
}
